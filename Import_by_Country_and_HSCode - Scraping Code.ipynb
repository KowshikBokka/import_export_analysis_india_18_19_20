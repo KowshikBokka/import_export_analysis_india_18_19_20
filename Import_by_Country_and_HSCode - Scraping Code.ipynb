{
 "cells": [
  {
   "cell_type": "code",
   "execution_count": null,
   "metadata": {},
   "outputs": [],
   "source": [
    "from bs4 import BeautifulSoup as soup\n",
    "import requests\n",
    "import numpy as np\n",
    "import time\n",
    "import pandas as pd\n",
    "from splinter import Browser\n",
    "from selenium import webdriver\n",
    "from selenium.webdriver.common.keys import Keys\n",
    "from selenium.webdriver.support.ui import Select\n",
    "import plotly.express as px\n",
    "from plotly.offline import download_plotlyjs, init_notebook_mode, plot, iplot\n",
    "import cufflinks as cf\n",
    "init_notebook_mode(connected=True)\n",
    "cf.go_offline()\n",
    "#using selenium to interact with the website\n",
    "url = 'https://commerce-app.gov.in/eidb/icntcomq.asp' #Given url\n",
    "executable_path = {\"executable_path\": \"/Users/kowshikbokka/Downloads/chromedriver\"}\n",
    "driver = webdriver.Chrome(**executable_path)\n",
    "driver.get(url)\n",
    "page_soup_home = soup(driver.page_source, 'html.parser')\n",
    "no_of_countries = len(page_soup_home.body.tbody.find_all(\"tr\")[1].find_all(\"td\")[1].p.find_all(\"option\"))\n",
    "no_of_years = len(page_soup_home.body.tbody.find(\"tr\").find_all(\"td\")[1].find_all(\"option\"))\n",
    "df = pd.DataFrame(columns = [\"S.No.\",\"HSCode\",\"Commodity\",\"Value_of_Import\",\"Country\",\"Year\"])\n",
    "#loop start\n",
    "for i in range(no_of_years):\n",
    "    page_soup = soup(driver.page_source, 'lxml')\n",
    "    container = page_soup.find_all(\"table\")\n",
    "    drpyear = Select(driver.find_element_by_id(\"select2\"))\n",
    "    drpyear.select_by_index(i)\n",
    "    for m in range(no_of_countries):\n",
    "        drpcountry = Select(driver.find_element_by_id(\"select3\"))\n",
    "        drpcountry.select_by_index(m) #country loop\n",
    "        drphs = Select(driver.find_element_by_id(\"hslevel\"))\n",
    "        drphs.select_by_index(3)\n",
    "        driver.find_element_by_id(\"radioDAll\").click()\n",
    "        driver.find_element_by_id(\"button1\").click()\n",
    "        page_soup = soup(driver.page_source, 'html.parser')\n",
    "        try:\n",
    "            df_Country = pd.read_html(driver.page_source)[0]\n",
    "            df_Country.drop(df_Country.tail(3).index,inplace=True)\n",
    "            df_Country['Country'] = page_soup.find_all(\"body\")[0].find_all(\"font\")[2].text[10:]\n",
    "            df_Country.drop(['%Growth',list(df_Country.columns)[3]],axis=1,inplace=True)\n",
    "            df_Country['Year'] = list(df_Country.columns)[3]\n",
    "            df_Country.rename(columns={list(df_Country.columns)[3]:'Value_of_Import'},inplace=True)\n",
    "            df = pd.concat([df,df_Country])\n",
    "        except ValueError:\n",
    "            pass \n",
    "        driver.implicitly_wait(10)\n",
    "        driver.execute_script(\"window.scrollTo(0,document.body.scrollHeight)\")\n",
    "        driver.back()"
   ]
  },
  {
   "cell_type": "code",
   "execution_count": null,
   "metadata": {},
   "outputs": [],
   "source": [
    "list(df.columns) [4]"
   ]
  },
  {
   "cell_type": "code",
   "execution_count": null,
   "metadata": {},
   "outputs": [],
   "source": [
    "df[df['Year']==\"2015-2016\"]"
   ]
  },
  {
   "cell_type": "code",
   "execution_count": null,
   "metadata": {},
   "outputs": [],
   "source": [
    "df.drop(['%Growth',list(df.columns)[3]],axis=1,inplace=True)"
   ]
  },
  {
   "cell_type": "code",
   "execution_count": null,
   "metadata": {},
   "outputs": [],
   "source": [
    "df.rename(columns= {list(df.columns)[3]:\"Value\"},inplace=True)"
   ]
  },
  {
   "cell_type": "code",
   "execution_count": null,
   "metadata": {},
   "outputs": [],
   "source": [
    "list(df.columns)[3]"
   ]
  },
  {
   "cell_type": "code",
   "execution_count": null,
   "metadata": {},
   "outputs": [],
   "source": [
    "page_soup_home.body.tbody.find(\"tr\").find_all(\"td\")[1].find_all(\"option\")"
   ]
  },
  {
   "cell_type": "code",
   "execution_count": null,
   "metadata": {},
   "outputs": [],
   "source": [
    "df"
   ]
  },
  {
   "cell_type": "code",
   "execution_count": null,
   "metadata": {},
   "outputs": [],
   "source": [
    "df.to_csv('import data year,HSCode, Country wise')"
   ]
  },
  {
   "cell_type": "code",
   "execution_count": null,
   "metadata": {},
   "outputs": [],
   "source": [
    "from bs4 import BeautifulSoup as soup\n",
    "import requests\n",
    "import numpy as np\n",
    "import time\n",
    "import pandas as pd\n",
    "from splinter import Browser\n",
    "from selenium import webdriver\n",
    "from selenium.webdriver.common.keys import Keys\n",
    "from selenium.webdriver.support.ui import Select\n",
    "import plotly.express as px\n",
    "from plotly.offline import download_plotlyjs, init_notebook_mode, plot, iplot\n",
    "import cufflinks as cf"
   ]
  },
  {
   "cell_type": "code",
   "execution_count": null,
   "metadata": {},
   "outputs": [],
   "source": [
    "df = pd.read_csv('import data year,HSCode, Country wise')"
   ]
  },
  {
   "cell_type": "code",
   "execution_count": null,
   "metadata": {},
   "outputs": [],
   "source": [
    "df"
   ]
  },
  {
   "cell_type": "code",
   "execution_count": null,
   "metadata": {},
   "outputs": [],
   "source": [
    "df['Commodity'].str.strip(\"*\")"
   ]
  },
  {
   "cell_type": "code",
   "execution_count": null,
   "metadata": {},
   "outputs": [],
   "source": []
  }
 ],
 "metadata": {
  "kernelspec": {
   "display_name": "Python 3",
   "language": "python",
   "name": "python3"
  },
  "language_info": {
   "codemirror_mode": {
    "name": "ipython",
    "version": 3
   },
   "file_extension": ".py",
   "mimetype": "text/x-python",
   "name": "python",
   "nbconvert_exporter": "python",
   "pygments_lexer": "ipython3",
   "version": "3.7.6"
  }
 },
 "nbformat": 4,
 "nbformat_minor": 4
}

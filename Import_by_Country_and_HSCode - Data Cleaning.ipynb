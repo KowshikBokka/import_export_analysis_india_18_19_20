{
 "cells": [
  {
   "cell_type": "code",
   "execution_count": 1,
   "metadata": {},
   "outputs": [],
   "source": [
    "from bs4 import BeautifulSoup as soup\n",
    "import requests\n",
    "import numpy as np\n",
    "import time\n",
    "import pandas as pd\n",
    "from splinter import Browser\n",
    "from selenium import webdriver\n",
    "from selenium.webdriver.common.keys import Keys\n",
    "from selenium.webdriver.support.ui import Select\n",
    "import plotly.express as px\n",
    "from plotly.offline import download_plotlyjs, init_notebook_mode, plot, iplot\n",
    "import cufflinks as cf\n",
    "import math"
   ]
  },
  {
   "cell_type": "code",
   "execution_count": 2,
   "metadata": {},
   "outputs": [],
   "source": [
    "df = pd.read_csv('import data year,HSCode, Country wise')"
   ]
  },
  {
   "cell_type": "code",
   "execution_count": 3,
   "metadata": {},
   "outputs": [],
   "source": [
    "df.replace(847150,84715000,inplace = True)"
   ]
  },
  {
   "cell_type": "code",
   "execution_count": 4,
   "metadata": {},
   "outputs": [],
   "source": [
    "df['HSCode']=df['HSCode'].apply(lambda x: '{0:0>8}'.format(x))"
   ]
  },
  {
   "cell_type": "code",
   "execution_count": 10,
   "metadata": {},
   "outputs": [],
   "source": [
    "df['2HSCode']=df['HSCode'].str[:2]\n",
    "df['4HSCode']=df['HSCode'].str[:4]\n",
    "df['6HSCode']=df['HSCode'].str[:6]"
   ]
  },
  {
   "cell_type": "code",
   "execution_count": 12,
   "metadata": {},
   "outputs": [],
   "source": [
    "df['Commodity'] = df['Commodity'].str.strip(\"*\")"
   ]
  },
  {
   "cell_type": "code",
   "execution_count": 15,
   "metadata": {},
   "outputs": [],
   "source": [
    "df['Value_of_Import'] = df['Value_of_Import'].fillna(0)"
   ]
  },
  {
   "cell_type": "code",
   "execution_count": 19,
   "metadata": {},
   "outputs": [],
   "source": [
    "df.drop(['Unnamed: 0','S.No.'],axis=1,inplace=True)"
   ]
  },
  {
   "cell_type": "code",
   "execution_count": 20,
   "metadata": {},
   "outputs": [
    {
     "data": {
      "text/html": [
       "<div>\n",
       "<style scoped>\n",
       "    .dataframe tbody tr th:only-of-type {\n",
       "        vertical-align: middle;\n",
       "    }\n",
       "\n",
       "    .dataframe tbody tr th {\n",
       "        vertical-align: top;\n",
       "    }\n",
       "\n",
       "    .dataframe thead th {\n",
       "        text-align: right;\n",
       "    }\n",
       "</style>\n",
       "<table border=\"1\" class=\"dataframe\">\n",
       "  <thead>\n",
       "    <tr style=\"text-align: right;\">\n",
       "      <th></th>\n",
       "      <th>HSCode</th>\n",
       "      <th>Commodity</th>\n",
       "      <th>Value_of_Import</th>\n",
       "      <th>Country</th>\n",
       "      <th>Year</th>\n",
       "      <th>2HSCode</th>\n",
       "      <th>4HSCode</th>\n",
       "      <th>6HSCode</th>\n",
       "    </tr>\n",
       "  </thead>\n",
       "  <tbody>\n",
       "    <tr>\n",
       "      <th>0</th>\n",
       "      <td>05010010</td>\n",
       "      <td>HUMAN HAIR,UNWORKED; WHETHR OR NOT WASHD OR SC...</td>\n",
       "      <td>0.00</td>\n",
       "      <td>AFGHANISTAN TIS</td>\n",
       "      <td>2019-2020</td>\n",
       "      <td>05</td>\n",
       "      <td>0501</td>\n",
       "      <td>050100</td>\n",
       "    </tr>\n",
       "    <tr>\n",
       "      <th>1</th>\n",
       "      <td>07031010</td>\n",
       "      <td>ONIONS FRESH OR CHILLED</td>\n",
       "      <td>22426.06</td>\n",
       "      <td>AFGHANISTAN TIS</td>\n",
       "      <td>2019-2020</td>\n",
       "      <td>07</td>\n",
       "      <td>0703</td>\n",
       "      <td>070310</td>\n",
       "    </tr>\n",
       "    <tr>\n",
       "      <th>2</th>\n",
       "      <td>07032000</td>\n",
       "      <td>GARLIC FRESH OR CHILLED</td>\n",
       "      <td>0.00</td>\n",
       "      <td>AFGHANISTAN TIS</td>\n",
       "      <td>2019-2020</td>\n",
       "      <td>07</td>\n",
       "      <td>0703</td>\n",
       "      <td>070320</td>\n",
       "    </tr>\n",
       "    <tr>\n",
       "      <th>3</th>\n",
       "      <td>07132010</td>\n",
       "      <td>KABULI CHANA</td>\n",
       "      <td>20.71</td>\n",
       "      <td>AFGHANISTAN TIS</td>\n",
       "      <td>2019-2020</td>\n",
       "      <td>07</td>\n",
       "      <td>0713</td>\n",
       "      <td>071320</td>\n",
       "    </tr>\n",
       "    <tr>\n",
       "      <th>4</th>\n",
       "      <td>07133110</td>\n",
       "      <td>BEANS OF THE SPP VIGNA MUNGO (L.) HEPPER</td>\n",
       "      <td>0.00</td>\n",
       "      <td>AFGHANISTAN TIS</td>\n",
       "      <td>2019-2020</td>\n",
       "      <td>07</td>\n",
       "      <td>0713</td>\n",
       "      <td>071331</td>\n",
       "    </tr>\n",
       "    <tr>\n",
       "      <th>...</th>\n",
       "      <td>...</td>\n",
       "      <td>...</td>\n",
       "      <td>...</td>\n",
       "      <td>...</td>\n",
       "      <td>...</td>\n",
       "      <td>...</td>\n",
       "      <td>...</td>\n",
       "      <td>...</td>\n",
       "    </tr>\n",
       "    <tr>\n",
       "      <th>3341702</th>\n",
       "      <td>75022019</td>\n",
       "      <td>NICKEL ALLOYS CONTAINING ABOV 10% BUT NOT ABOV...</td>\n",
       "      <td>7.78</td>\n",
       "      <td>ZIMBABWE</td>\n",
       "      <td>1997-1998</td>\n",
       "      <td>75</td>\n",
       "      <td>7502</td>\n",
       "      <td>750220</td>\n",
       "    </tr>\n",
       "    <tr>\n",
       "      <th>3341703</th>\n",
       "      <td>76020000</td>\n",
       "      <td>ALUMINIUM WASTE &amp; SCRAPS</td>\n",
       "      <td>0.00</td>\n",
       "      <td>ZIMBABWE</td>\n",
       "      <td>1997-1998</td>\n",
       "      <td>76</td>\n",
       "      <td>7602</td>\n",
       "      <td>760200</td>\n",
       "    </tr>\n",
       "    <tr>\n",
       "      <th>3341704</th>\n",
       "      <td>81051001</td>\n",
       "      <td>COBALT AND COBALT BASE ALLOYS, UNWROUGHT</td>\n",
       "      <td>0.00</td>\n",
       "      <td>ZIMBABWE</td>\n",
       "      <td>1997-1998</td>\n",
       "      <td>81</td>\n",
       "      <td>8105</td>\n",
       "      <td>810510</td>\n",
       "    </tr>\n",
       "    <tr>\n",
       "      <th>3341705</th>\n",
       "      <td>99930001</td>\n",
       "      <td>SAMPLES</td>\n",
       "      <td>0.02</td>\n",
       "      <td>ZIMBABWE</td>\n",
       "      <td>1997-1998</td>\n",
       "      <td>99</td>\n",
       "      <td>9993</td>\n",
       "      <td>999300</td>\n",
       "    </tr>\n",
       "    <tr>\n",
       "      <th>3341706</th>\n",
       "      <td>99930009</td>\n",
       "      <td>SPECIAL TRANSACTIONS N.E.S.</td>\n",
       "      <td>0.57</td>\n",
       "      <td>ZIMBABWE</td>\n",
       "      <td>1997-1998</td>\n",
       "      <td>99</td>\n",
       "      <td>9993</td>\n",
       "      <td>999300</td>\n",
       "    </tr>\n",
       "  </tbody>\n",
       "</table>\n",
       "<p>3341707 rows × 8 columns</p>\n",
       "</div>"
      ],
      "text/plain": [
       "           HSCode                                          Commodity  \\\n",
       "0        05010010  HUMAN HAIR,UNWORKED; WHETHR OR NOT WASHD OR SC...   \n",
       "1        07031010                            ONIONS FRESH OR CHILLED   \n",
       "2        07032000                            GARLIC FRESH OR CHILLED   \n",
       "3        07132010                                       KABULI CHANA   \n",
       "4        07133110           BEANS OF THE SPP VIGNA MUNGO (L.) HEPPER   \n",
       "...           ...                                                ...   \n",
       "3341702  75022019  NICKEL ALLOYS CONTAINING ABOV 10% BUT NOT ABOV...   \n",
       "3341703  76020000                           ALUMINIUM WASTE & SCRAPS   \n",
       "3341704  81051001           COBALT AND COBALT BASE ALLOYS, UNWROUGHT   \n",
       "3341705  99930001                                            SAMPLES   \n",
       "3341706  99930009                        SPECIAL TRANSACTIONS N.E.S.   \n",
       "\n",
       "         Value_of_Import          Country       Year 2HSCode 4HSCode 6HSCode  \n",
       "0                   0.00  AFGHANISTAN TIS  2019-2020      05    0501  050100  \n",
       "1               22426.06  AFGHANISTAN TIS  2019-2020      07    0703  070310  \n",
       "2                   0.00  AFGHANISTAN TIS  2019-2020      07    0703  070320  \n",
       "3                  20.71  AFGHANISTAN TIS  2019-2020      07    0713  071320  \n",
       "4                   0.00  AFGHANISTAN TIS  2019-2020      07    0713  071331  \n",
       "...                  ...              ...        ...     ...     ...     ...  \n",
       "3341702             7.78         ZIMBABWE  1997-1998      75    7502  750220  \n",
       "3341703             0.00         ZIMBABWE  1997-1998      76    7602  760200  \n",
       "3341704             0.00         ZIMBABWE  1997-1998      81    8105  810510  \n",
       "3341705             0.02         ZIMBABWE  1997-1998      99    9993  999300  \n",
       "3341706             0.57         ZIMBABWE  1997-1998      99    9993  999300  \n",
       "\n",
       "[3341707 rows x 8 columns]"
      ]
     },
     "execution_count": 20,
     "metadata": {},
     "output_type": "execute_result"
    }
   ],
   "source": [
    "df"
   ]
  },
  {
   "cell_type": "code",
   "execution_count": 21,
   "metadata": {},
   "outputs": [],
   "source": [
    "df.to_csv('Import_Clean')"
   ]
  },
  {
   "cell_type": "code",
   "execution_count": null,
   "metadata": {},
   "outputs": [],
   "source": []
  }
 ],
 "metadata": {
  "kernelspec": {
   "display_name": "Python 3",
   "language": "python",
   "name": "python3"
  },
  "language_info": {
   "codemirror_mode": {
    "name": "ipython",
    "version": 3
   },
   "file_extension": ".py",
   "mimetype": "text/x-python",
   "name": "python",
   "nbconvert_exporter": "python",
   "pygments_lexer": "ipython3",
   "version": "3.7.6"
  }
 },
 "nbformat": 4,
 "nbformat_minor": 4
}
